{
 "cells": [
  {
   "cell_type": "code",
   "execution_count": 7,
   "id": "95e342d1-1d04-4105-bb95-ac6bbb4495e9",
   "metadata": {
    "id": "95e342d1-1d04-4105-bb95-ac6bbb4495e9"
   },
   "outputs": [],
   "source": [
    "import torch\n",
    "from torch import nn\n",
    "import torchvision\n",
    "from torchvision import transforms\n",
    "from torch.utils.data import DataLoader\n",
    "import os\n",
    "import pandas as pd\n",
    "import model \n",
    "from flower_dataset import FlowerDataset\n",
    "from trainer_mixup_arcface import Trainer\n",
    "from config import *\n",
    "from model_zoo import get_model"
   ]
  },
  {
   "cell_type": "code",
   "execution_count": 8,
   "id": "4c306aac-fc0d-45b8-a117-73c95f1b2773",
   "metadata": {
    "id": "4c306aac-fc0d-45b8-a117-73c95f1b2773"
   },
   "outputs": [],
   "source": [
    "## dataset & dataloader\n",
    "df_train_label = pd.read_csv('train_label.csv')\n",
    "df_test_label = pd.read_csv('test_label.csv')\n",
    "\n",
    "# dataset\n",
    "train_dataset = FlowerDataset('./training/', df_train_label, image_transform)\n",
    "test_dataset = FlowerDataset('./training/', df_test_label, image_transform)\n",
    "\n",
    "# dataloader\n",
    "train_dataloader = DataLoader(train_dataset, batch_size=batch_size, shuffle=True)\n",
    "test_dataloader = DataLoader(test_dataset, batch_size=batch_size)"
   ]
  },
  {
   "cell_type": "code",
   "execution_count": 9,
   "id": "4d448130-870a-4346-bca8-e740ab238c57",
   "metadata": {
    "colab": {
     "base_uri": "https://localhost:8080/"
    },
    "id": "4d448130-870a-4346-bca8-e740ab238c57",
    "outputId": "ec73ebae-26b7-4417-a6a4-e3dc756e19fb"
   },
   "outputs": [
    {
     "data": {
      "text/plain": [
       "torch.Size([3, 448, 448])"
      ]
     },
     "execution_count": 9,
     "metadata": {},
     "output_type": "execute_result"
    }
   ],
   "source": [
    "train_dataset[0][0].shape"
   ]
  },
  {
   "cell_type": "code",
   "execution_count": 10,
   "id": "eb0ed384-8d08-4913-8cfc-cb4f9d6b86a5",
   "metadata": {
    "id": "eb0ed384-8d08-4913-8cfc-cb4f9d6b86a5"
   },
   "outputs": [],
   "source": [
    "# custom layer \n",
    "if is_arcface: \n",
    "    custom_layer = model.Arcface_Mixup(class_num, embed_size) if is_mixup else model.Arcface(class_num, embed_size)\n",
    "else: \n",
    "    custom_layer = model.FFN(embed_size, class_num)\n",
    "\n",
    "# final model \n",
    "final_model = model.Model(get_model(model_name, embed_size, drop_p), custom_layer).to(device)"
   ]
  },
  {
   "cell_type": "code",
   "execution_count": null,
   "id": "11ea00d9-f263-4a6a-b3d2-dcc2a4bcc378",
   "metadata": {
    "colab": {
     "base_uri": "https://localhost:8080/"
    },
    "id": "11ea00d9-f263-4a6a-b3d2-dcc2a4bcc378",
    "outputId": "ca64bae7-cf10-4dae-be6e-e6b196770a22"
   },
   "outputs": [
    {
     "name": "stderr",
     "output_type": "stream",
     "text": [
      "100%|██████████| 55/55 [00:57<00:00,  1.04s/it, loss=5.29]\n"
     ]
    },
    {
     "name": "stdout",
     "output_type": "stream",
     "text": [
      "train_loss: 5.416900591218853\n",
      "{'Accuracy': 0.1392693966627121, 'CE': 5.09618616104126}\n"
     ]
    },
    {
     "name": "stderr",
     "output_type": "stream",
     "text": [
      " 96%|█████████▋| 53/55 [00:54<00:02,  1.03s/it, loss=5.05]"
     ]
    }
   ],
   "source": [
    "%%time\n",
    "train_pipeline = Trainer()\n",
    "train_pipeline.compile(lr, decay_fn, loss_fn, metric_dict, is_arcface, is_mixup, device=device)\n",
    "train_pipeline.fit(final_model, train_dataloader, test_dataloader, num_epoch, save_config)"
   ]
  }
 ],
 "metadata": {
  "accelerator": "GPU",
  "colab": {
   "collapsed_sections": [],
   "name": "run.ipynb",
   "provenance": []
  },
  "kernelspec": {
   "display_name": "Python 3 (ipykernel)",
   "language": "python",
   "name": "python3"
  },
  "language_info": {
   "codemirror_mode": {
    "name": "ipython",
    "version": 3
   },
   "file_extension": ".py",
   "mimetype": "text/x-python",
   "name": "python",
   "nbconvert_exporter": "python",
   "pygments_lexer": "ipython3",
   "version": "3.7.9"
  }
 },
 "nbformat": 4,
 "nbformat_minor": 5
}
