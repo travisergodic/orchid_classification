{
  "nbformat": 4,
  "nbformat_minor": 0,
  "metadata": {
    "colab": {
      "name": "「Untitled28.ipynb」的副本",
      "provenance": [],
      "collapsed_sections": []
    },
    "kernelspec": {
      "name": "python3",
      "display_name": "Python 3"
    },
    "language_info": {
      "name": "python"
    },
    "accelerator": "GPU",
    "gpuClass": "standard"
  },
  "cells": [
    {
      "cell_type": "code",
      "source": [
        "from google.colab import drive\n",
        "drive.mount('/content/drive')"
      ],
      "metadata": {
        "id": "wgl9tsNchBa3"
      },
      "execution_count": null,
      "outputs": []
    },
    {
      "cell_type": "code",
      "source": [
        "!git clone https://github.com/travisergodic/orchid_classification.git\n",
        "%cd \"./orchid_classification\"\n",
        "!pip install -r requirements.txt\n",
        "!git clone https://github.com/rwightman/pytorch-image-models\n",
        "%cd pytorch-image-models \n",
        "!pip install -e .\n",
        "%cd \"../\"\n",
        "!git clone https://github.com/davda54/sam.git\n",
        "%mkdir \"./checkpoints\"\n",
        "%mkdir \"./final_models\"\n",
        "%mkdir \"./pred_data\""
      ],
      "metadata": {
        "id": "CMFpjxB2YoV5"
      },
      "execution_count": null,
      "outputs": []
    },
    {
      "cell_type": "code",
      "source": [
        "%cp \"/content/drive/MyDrive/2-專案/蘭花辨識比賽/最終模型/convnext_v8.pt\" \"./final_models\"\n",
        "%cp \"/content/drive/MyDrive/2-專案/蘭花辨識比賽/最終模型/convnext_v10.pt\" \"./final_models\"\n",
        "%cp \"/content/drive/MyDrive/2-專案/蘭花辨識比賽/data/training.zip\" \"./\"\n",
        "!unzip \"/content/orchid_classification/training.zip\"\n",
        "%cp \"/content/drive/MyDrive/2-專案/蘭花辨識比賽/data/orchid_private_set.zip\" \"./pred_data\"\n",
        "%cp \"/content/drive/MyDrive/2-專案/蘭花辨識比賽/data/orchid_public_set.zip\" \"./pred_data\"\n",
        "!unzip -P \"Y8vBt&e*AAZ5GREL3#gA9i9j3A\" \"./pred_data/orchid_private_set.zip\" -d \"./pred_data\"\n",
        "!unzip -P \"sxRHRQmzmRw8TS!X4Kz23oRvg@\" \"./pred_data/orchid_public_set.zip\" -d \"./pred_data\""
      ],
      "metadata": {
        "id": "X8xjNt-xfz_s"
      },
      "execution_count": null,
      "outputs": []
    },
    {
      "cell_type": "code",
      "source": [
        "%cd \"/content/orchid_classification\"\n",
        "!python train.py --config_file \"convnext/config_v10.py\""
      ],
      "metadata": {
        "id": "ozl1byhcb92Y"
      },
      "execution_count": null,
      "outputs": []
    },
    {
      "cell_type": "code",
      "source": [
        "%cd /content/orchid_classification\n",
        "!python predict.py --model_paths \"/content/orchid_classification/checkpoints/convnext_v8.pt\" \\\n",
        "                   --target_dir \"/content/orchid_classification/pred_data\" \\\n",
        "                   --do_tta \"False\""
      ],
      "metadata": {
        "id": "9kHQpiH9Y8Rp"
      },
      "execution_count": null,
      "outputs": []
    }
  ]
}